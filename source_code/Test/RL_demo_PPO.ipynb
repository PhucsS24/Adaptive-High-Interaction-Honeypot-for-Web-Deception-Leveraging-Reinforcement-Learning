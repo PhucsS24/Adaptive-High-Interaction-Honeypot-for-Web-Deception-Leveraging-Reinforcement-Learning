{
 "cells": [
  {
   "cell_type": "markdown",
   "id": "15de715e",
   "metadata": {},
   "source": [
    "## 1. Import Dependencies"
   ]
  },
  {
   "cell_type": "code",
   "execution_count": 1,
   "id": "ba172813",
   "metadata": {},
   "outputs": [],
   "source": [
    "import gym \n",
    "from gym import Env\n",
    "from gym.spaces import Discrete, Box, Dict, Tuple, MultiBinary, MultiDiscrete\n",
    "\n",
    "from stable_baselines3.common.vec_env import DummyVecEnv\n",
    "from stable_baselines3 import PPO, DQN\n",
    "from stable_baselines3.common.vec_env import VecFrameStack\n",
    "from stable_baselines3.common.evaluation import evaluate_policy\n",
    "\n",
    "import numpy as np\n",
    "import random\n",
    "import os\n",
    "import pandas as pd\n"
   ]
  },
  {
   "cell_type": "markdown",
   "id": "2d42eb38",
   "metadata": {},
   "source": [
    "## 2. Creat Env"
   ]
  },
  {
   "cell_type": "code",
   "execution_count": 2,
   "id": "6ccfb9e3",
   "metadata": {},
   "outputs": [],
   "source": [
    "class CustomEnv(Env):\n",
    "    def __init__(self, data_path = \"Data_test\\data_demo.csv\"):\n",
    "        \n",
    "        self.action_space = Discrete(141)\n",
    "        self.observation_space = Discrete(242, start=100)\n",
    "        #self.observation_space = Box(low=100, high=161, shape=(1,), dtype=int)\n",
    "        \n",
    "        data = pd.read_csv(\"Data_test\\data_demo.csv\")\n",
    "        #self.data_request = data.request\n",
    "        #self.data_response = data.response\n",
    "        #self.data_lable = data.lable\n",
    "        self.data_request_list = data.request.to_list()\n",
    "        self.data_general_request_list = data.general_request.to_list()\n",
    "        self.data_general_unique_list = data.general_unique.tolist()\n",
    "        self.data_response_list = data.response_simple.to_list()\n",
    "        self.data_lable_list = data.lable.to_list()\n",
    "        self.data_value_list = data._value_.to_list()\n",
    "        self.data_key_request_list = data.key_request.to_list()\n",
    "                 \n",
    "        #Lấy index các dạng tổng quát\n",
    "        self.lable_exploit_list = [self.data_value_list[index] for index, label in enumerate(self.data_lable_list) if label == 'exploit']\n",
    "        self.lable_upload_list = [self.data_value_list[index] for index, label in enumerate(self.data_lable_list) if label == 'upload']\n",
    "        self.lable_end_list = [self.data_value_list[index] for index, label in enumerate(self.data_lable_list) if label == 'end']             \n",
    "\n",
    "        self.general_upload = [index for index, general in enumerate(self.data_general_unique_list) if general == 'MixString-MixStringMixString-MixStringname=PureStringfilename=PureString.php']\n",
    "        self.general_end = [index for index, general in enumerate(self.data_general_unique_list) if general == 'MixString']\n",
    "\n",
    "        self.general_cmdinj_1_collect = [index for index, general in enumerate(self.data_general_unique_list) if general ==\"ip=Number.Number.Number.Number%HexString%HexStringMixString&Submit=PureString\"]\n",
    "        self.general_cmdinj_2_collect = [index for index, general in enumerate(self.data_general_unique_list) if general ==\"ip=Number.Number.Number.Number%HexString%HexStringMixString-MixString&Submit=PureString\"]\n",
    "        self.general_cmdinj_3_exploit = [index for index, general in enumerate(self.data_general_unique_list) if general ==\"ip=Number.Number.Number.Number%HexString%HexStringMixString-MixString%HexStringMixString%HexStringMixStringNumber.Number.Number.NumberNumber&Submit=PureString\"]\n",
    "        self.general_cmdinj_4_exploit = [index for index, general in enumerate(self.data_general_unique_list) if general ==\"ip=Number.Number.Number.Number%HexString%HexStringMixString-MixString%HexString%HexString%HexStringMixString%HexStringMixString%HexStringNumber.Number.Number.Number%HexStringNumberNumber%HexString%HexStringNumber&Submit=PureString\"]\n",
    "        \n",
    "        self.general_sql_1_collect = [index for index, general in enumerate(self.data_general_unique_list) if general ==\"?id=%HexStringNumber&Submit=PureString\"]\n",
    "        self.general_sql_2_exploit = [index for index, general in enumerate(self.data_general_unique_list) if general ==\"?id=%HexString%HexStringNumberMixString%HexStringNumber%HexString%HexString%HexStringNumber&Submit=PureString\"]\n",
    "        self.general_sql_3_exploit = [index for index, general in enumerate(self.data_general_unique_list) if general ==\"?id=%HexStringNumber%HexStringMixStringMixStringMixString%HexStringMixStringMixStringMixString%HexString&Submit=PureString\"]\n",
    "        self.general_sql_4_exploit = [index for index, general in enumerate(self.data_general_unique_list) if general ==\"id=NumberMixStringNumber%HexStringNumber%HexString&Submit=PureString\"]\n",
    "        self.general_sql_5_exploit = [index for index, general in enumerate(self.data_general_unique_list) if general ==\"id=%HexStringNumber%HexStringMixStringMixStringMixString%HexStringMixStringMixStringMixString%HexString&Submit=PureString\"]\n",
    "        self.general_sql_6_exploit = [index for index, general in enumerate(self.data_general_unique_list) if general ==\"?id=Number%HexStringMixStringMixString%HexStringNumber%HexString%HexString&Submit=PureString\"]\n",
    "        self.general_sql_7_exploit = [index for index, general in enumerate(self.data_general_unique_list) if general ==\"id=NumberMixStringMixString%HexStringNumber%HexString%HexString&Submit=PureString\"]\n",
    "        \n",
    "        \n",
    "        self.general_xss_1_exploit = [index for index, general in enumerate(self.data_general_unique_list) if general ==\"?default=PureString%HexStringMixString%HexStringMixString(%HexStringMixString%HexStringMixString%HexStringMixString%HexStringNumber)%HexString/PathString%HexString\"]\n",
    "        self.general_xss_2_exploit = [index for index, general in enumerate(self.data_general_unique_list) if general ==\"?default=PureString%HexString/PathString%HexString%HexString/PathString%HexString%HexStringMixString%HexStringsrc=%HexStringMixString%HexString%HexStringonerror=%HexStringMixString(%HexStringNumberMixString.MixString%HexString)%HexString%HexString\"]\n",
    "        self.general_xss_3_exploit = [index for index, general in enumerate(self.data_general_unique_list) if general ==\"?name=%HexStringMixString%HexStringMixString%HexStringNumberMixString.MixString%HexString%HexString%HexString%HexStringMixString%HexString\"]\n",
    "        self.general_xss_4_exploit = [index for index, general in enumerate(self.data_general_unique_list) if general ==\"?name=%HexStringMixStringMixString%HexStringMixStringMixString%HexStringMixString%HexStringNumberMixString.MixString%HexString%HexString\"]\n",
    "        self.general_xss_5_exploit = [index for index, general in enumerate(self.data_general_unique_list) if general ==\"txtName=PureString&mtxMessage=%HexStringMixString%HexStringMixString%HexStringNumberMixString.MixString%HexString%HexString%HexString%HexStringMixString%HexString&btnSign=PureStringMixString\"]\n",
    "        self.general_xss_6_exploit = [index for index, general in enumerate(self.data_general_unique_list) if general ==\"txtName=%HexStringMixString%HexStringMixString%HexStringNumberMixString.MixString%HexString%HexString%HexString%HexStringMixString%HexString&mtxMessage=PureString&btnSign=PureStringMixString\"]\n",
    "        self.general_xss_7_exploit = [index for index, general in enumerate(self.data_general_unique_list) if general ==\"txtName=%HexStringMixStringMixString%HexStringMixStringMixString%HexStringMixString%HexStringNumberMixString.MixString%HexString%HexString&mtxMessage=PureString&btnSign=PureStringMixString\"]\n",
    "        \n",
    "        self.general_csrf_1_exploit = [index for index, general in enumerate(self.data_general_unique_list) if general ==\"?password_new=NumberPureString&password_conf=PureString&Change=PureString\"]\n",
    "        \n",
    "        self.general_path_raversal_1_exploit = [index for index, general in enumerate(self.data_general_unique_list) if general ==\"?page=/PathString/PathString/PathString/PathString/PathString/PathString/PathString/PathString\"]\n",
    "        self.general_path_raversal_2_exploit = [index for index, general in enumerate(self.data_general_unique_list) if general ==\"?page=PureString.php%HexString/PathString/PathString/PathString/PathString/PathString/PathString/PathString/PathString\"]                       \n",
    "        \n",
    "        \n",
    "        # Initialize state\n",
    "        self.lable_collect_list = [self.data_value_list[index] for index, label in enumerate(self.data_lable_list) if label == 'collect']\n",
    "        self.state = np.random.choice(self.lable_collect_list)\n",
    "        \n",
    "        # Set shower length\n",
    "        self.shower_length = 10\n",
    "        \n",
    "    def step(self, action):\n",
    "        self.total_reward = 0\n",
    "        self.shower_length -= 1 \n",
    "        # Calculate reward\n",
    "        if self.state in self.lable_collect_list:\n",
    "            if action in self.general_cmdinj_1_collect and self.data_key_request_list[action] == self.data_key_request_list[self.data_value_list.index(self.state)]:\n",
    "                reward = 0\n",
    "            elif action in self.general_cmdinj_2_collect and self.data_key_request_list[action] == self.data_key_request_list[self.data_value_list.index(self.state)]:\n",
    "                reward = 0\n",
    "            elif action in self.general_sql_1_collect and self.data_key_request_list[action] == self.data_key_request_list[self.data_value_list.index(self.state)]:\n",
    "                reward = 0\n",
    "            else:\n",
    "                reward = -1\n",
    "                \n",
    "        elif self.state in self.lable_exploit_list:\n",
    "            if action in self.general_cmdinj_3_exploit and self.data_key_request_list[action] == self.data_key_request_list[self.data_value_list.index(self.state)]:\n",
    "                reward = 1\n",
    "            elif action in self.general_cmdinj_4_exploit and self.data_key_request_list[action] == self.data_key_request_list[self.data_value_list.index(self.state)]:\n",
    "                reward = 1\n",
    "            elif action in self.general_sql_2_exploit and self.data_key_request_list[action] == self.data_key_request_list[self.data_value_list.index(self.state)]:\n",
    "                reward = 1\n",
    "            elif action in self.general_sql_3_exploit and self.data_key_request_list[action] == self.data_key_request_list[self.data_value_list.index(self.state)]:\n",
    "                reward = 1\n",
    "            elif action in self.general_sql_4_exploit and self.data_key_request_list[action] == self.data_key_request_list[self.data_value_list.index(self.state)]:\n",
    "                reward = 1\n",
    "            elif action in self.general_sql_5_exploit and self.data_key_request_list[action] == self.data_key_request_list[self.data_value_list.index(self.state)]:\n",
    "                reward = 1\n",
    "            elif action in self.general_sql_6_exploit and self.data_key_request_list[action] == self.data_key_request_list[self.data_value_list.index(self.state)]:\n",
    "                reward = 1\n",
    "            elif action in self.general_sql_7_exploit and self.data_key_request_list[action] == self.data_key_request_list[self.data_value_list.index(self.state)]:\n",
    "                reward = 1\n",
    "            \n",
    "            elif action in self.general_xss_1_exploit and self.data_key_request_list[action] == self.data_key_request_list[self.data_value_list.index(self.state)]:\n",
    "                reward = 1\n",
    "            elif action in self.general_xss_2_exploit and self.data_key_request_list[action] == self.data_key_request_list[self.data_value_list.index(self.state)]:\n",
    "                reward = 1\n",
    "            elif action in self.general_xss_3_exploit and self.data_key_request_list[action] == self.data_key_request_list[self.data_value_list.index(self.state)]:\n",
    "                reward = 1\n",
    "            elif action in self.general_xss_4_exploit and self.data_key_request_list[action] == self.data_key_request_list[self.data_value_list.index(self.state)]:\n",
    "                reward = 1\n",
    "            elif action in self.general_xss_5_exploit and self.data_key_request_list[action] == self.data_key_request_list[self.data_value_list.index(self.state)]:\n",
    "                reward = 1\n",
    "            elif action in self.general_xss_6_exploit and self.data_key_request_list[action] == self.data_key_request_list[self.data_value_list.index(self.state)]:\n",
    "                reward = 1\n",
    "            elif action in self.general_xss_7_exploit and self.data_key_request_list[action] == self.data_key_request_list[self.data_value_list.index(self.state)]:\n",
    "                reward = 1\n",
    "                \n",
    "            elif action in self.general_csrf_1_exploit and self.data_key_request_list[action] == self.data_key_request_list[self.data_value_list.index(self.state)]:\n",
    "                reward = 1\n",
    "                \n",
    "            elif action in self.general_path_raversal_1_exploit and self.data_key_request_list[action] == self.data_key_request_list[self.data_value_list.index(self.state)]:\n",
    "                reward = 1\n",
    "            elif action in self.general_path_raversal_2_exploit and self.data_key_request_list[action] == self.data_key_request_list[self.data_value_list.index(self.state)]:\n",
    "                reward = 1\n",
    "            else:\n",
    "                reward = -1\n",
    "            \n",
    "            \n",
    "        elif self.state in self.lable_upload_list:\n",
    "            if action in self.general_upload and self.data_key_request_list[action] == self.data_key_request_list[self.data_value_list.index(self.state)]:\n",
    "                reward = 5\n",
    "            else:\n",
    "                reward = -1\n",
    "        elif self.state in self.lable_end_list and self.data_key_request_list[action] == self.data_key_request_list[self.data_value_list.index(self.state)]:\n",
    "            if self.total_reward > 0:\n",
    "                reward = 0\n",
    "            else:\n",
    "                reward = -1\n",
    "        elif self.state in self.lable_end_list and self.data_key_request_list[action] == self.data_key_request_list[self.data_value_list.index(self.state)]:\n",
    "            if self.total_reward <= 0:\n",
    "                reward = -1\n",
    "        else:\n",
    "            reward = -1        \n",
    "            \n",
    "       \n",
    "            \n",
    "        self.total_reward += reward\n",
    "            \n",
    "       \n",
    "        # Check if shower is done\n",
    "        if self.shower_length <= 0: \n",
    "            done = True\n",
    "        else:\n",
    "            done = False\n",
    "        \n",
    "        if done:\n",
    "            self.state = np.random.choice(self.lable_collect_list)\n",
    "        else:\n",
    "            self.state = np.random.choice(self.data_value_list)\n",
    "        \n",
    "        # Set placeholder for info\n",
    "        info = {}\n",
    "        \n",
    "        # Return step information\n",
    "        return self.state, reward, done, info\n",
    "\n",
    "    \n",
    "    def reset(self):\n",
    "        # Reset shower temperature\n",
    "        self.state = np.random.choice(self.lable_collect_list)\n",
    "        # Reset shower time\n",
    "        self.shower_length = 10\n",
    "        return self.state"
   ]
  },
  {
   "cell_type": "code",
   "execution_count": 3,
   "id": "5e723dd3",
   "metadata": {},
   "outputs": [],
   "source": [
    "env1 = CustomEnv()"
   ]
  },
  {
   "cell_type": "markdown",
   "id": "9084e64e",
   "metadata": {},
   "source": [
    "## 3.Reload Model and Test"
   ]
  },
  {
   "cell_type": "code",
   "execution_count": 4,
   "id": "30516d0e",
   "metadata": {},
   "outputs": [],
   "source": [
    "PPO_path = os.path.join('Training', 'Saved Models', 'PPO_Test_env10_model_200k_esp')"
   ]
  },
  {
   "cell_type": "code",
   "execution_count": 5,
   "id": "9e229296",
   "metadata": {},
   "outputs": [
    {
     "data": {
      "text/plain": [
       "'Training\\\\Saved Models\\\\PPO_Test_env10_model_200k_esp'"
      ]
     },
     "execution_count": 5,
     "metadata": {},
     "output_type": "execute_result"
    }
   ],
   "source": [
    "PPO_path"
   ]
  },
  {
   "cell_type": "code",
   "execution_count": 6,
   "id": "c0e5486c",
   "metadata": {},
   "outputs": [
    {
     "name": "stderr",
     "output_type": "stream",
     "text": [
      "C:\\Users\\Asus\\anaconda3\\Lib\\site-packages\\torch\\cuda\\__init__.py:138: UserWarning: CUDA initialization: The NVIDIA driver on your system is too old (found version 11060). Please update your GPU driver by downloading and installing a new version from the URL: http://www.nvidia.com/Download/index.aspx Alternatively, go to: https://pytorch.org to install a PyTorch version that has been compiled with your version of the CUDA driver. (Triggered internally at ..\\c10\\cuda\\CUDAFunctions.cpp:108.)\n",
      "  return torch._C._cuda_getDeviceCount() > 0\n",
      "C:\\Users\\Asus\\anaconda3\\Lib\\site-packages\\stable_baselines3\\common\\vec_env\\patch_gym.py:49: UserWarning: You provided an OpenAI Gym environment. We strongly recommend transitioning to Gymnasium environments. Stable-Baselines3 is automatically wrapping your environments in a compatibility layer, which could potentially cause issues.\n",
      "  warnings.warn(\n"
     ]
    },
    {
     "name": "stdout",
     "output_type": "stream",
     "text": [
      "Wrapping the env with a `Monitor` wrapper\n",
      "Wrapping the env in a DummyVecEnv.\n"
     ]
    }
   ],
   "source": [
    "model = PPO.load(PPO_path, env1)"
   ]
  },
  {
   "cell_type": "markdown",
   "id": "a6ffd18f",
   "metadata": {},
   "source": [
    "## Input_Function"
   ]
  },
  {
   "cell_type": "code",
   "execution_count": 17,
   "id": "f6e11e3f",
   "metadata": {},
   "outputs": [],
   "source": [
    "import nltk\n",
    "from nltk.tokenize import word_tokenize\n",
    "from nltk.tokenize import RegexpTokenizer\n",
    "import re\n",
    "\n",
    "#Ham đưa request về tổng quát \n",
    "def request_general(input_string):\n",
    "    # pattern = re.compile(r'\\?|&|=|-|.php|%[0-9A-Fa-f]{2}|\\w+|\\.|\\(|\\)')\n",
    "    pattern = re.compile(r'/\\.\\.|/[a-zA-Z]+|\\?|&|=|-|.php|%[0-9A-Fa-f]{2}|\\w+|\\.|\\(|\\)')\n",
    "    matches = pattern.findall(input_string)\n",
    "    #print(matches)\n",
    "    print(\"\\n\")\n",
    "\n",
    "    #Đưa về dạng tổng quát\n",
    "    arr =[]\n",
    "    result_arr = []\n",
    "    Number_arr = []\n",
    "    Hex_arr = []\n",
    "    Pure_arr = []\n",
    "    Mix_arr = []\n",
    "    \n",
    "    result_str = \"\"\n",
    "\n",
    "    arr = matches\n",
    "    for index in range(len(arr)):\n",
    "        current_index = index\n",
    "        if arr[index].isdigit():\n",
    "            Number_arr.append(arr[index])\n",
    "            arr[index] = \"Number\"\n",
    "            result_arr.append(arr[index])\n",
    "        elif \"%\" in arr[index]:\n",
    "            arr[index] = \"%HexString\"\n",
    "            result_arr.append(arr[index])\n",
    "        elif ((index+1) < len(arr)) and arr[index+1] == \"=\":\n",
    "            result_arr.append(arr[index])\n",
    "        elif arr[index-1] == \"=\" and arr[index].isalnum():\n",
    "            arr[index] = \"PureString\"\n",
    "            result_arr.append(arr[index])\n",
    "        elif arr[index].isalnum():\n",
    "            Mix_arr.append(arr[index])\n",
    "            arr[index] = \"MixString\"\n",
    "            result_arr.append(arr[index])\n",
    "        elif \"/\" in arr[index]:\n",
    "            arr[index] = \"/PathString\"\n",
    "            result_arr.append(arr[index])\n",
    "    #     elif arr[index-1] == \"-\" and arr[index].isalnum():\n",
    "    #         result_arr.append(arr[index])\n",
    "        else:\n",
    "            result_arr.append(arr[index])\n",
    "\n",
    "    #print(result_arr,\"\\n\")\n",
    "    result_Mix_Num = Mix_arr + Number_arr\n",
    "    result_key = ' '.join(result_Mix_Num)\n",
    "    #print(result_key)\n",
    "\n",
    "    for char in result_arr:\n",
    "        result_str += char\n",
    "    #print(result_str)\n",
    "    return result_str\n",
    "    #return result_key\n",
    "    \n",
    "#Hàm lấy ra key của request\n",
    "def request_general_key(input_string):\n",
    "    # pattern = re.compile(r'\\?|&|=|-|.php|%[0-9A-Fa-f]{2}|\\w+|\\.|\\(|\\)')\n",
    "    pattern = re.compile(r'/\\.\\.|/[a-zA-Z]+|\\?|&|=|-|.php|%[0-9A-Fa-f]{2}|\\w+|\\.|\\(|\\)')\n",
    "    matches = pattern.findall(input_string)\n",
    "    #print(matches)\n",
    "    print(\"\\n\")\n",
    "\n",
    "    #Đưa về dạng tổng quát\n",
    "    arr =[]\n",
    "    result_arr = []\n",
    "    Number_arr = []\n",
    "    Hex_arr = []\n",
    "    Pure_arr = []\n",
    "    Mix_arr = []\n",
    "    \n",
    "    result_str = \"\"\n",
    "\n",
    "    arr = matches\n",
    "    for index in range(len(arr)):\n",
    "        current_index = index\n",
    "        if arr[index].isdigit():\n",
    "            Number_arr.append(arr[index])\n",
    "            arr[index] = \"Number\"\n",
    "            result_arr.append(arr[index])\n",
    "        elif \"%\" in arr[index]:\n",
    "            arr[index] = \"%HexString\"\n",
    "            result_arr.append(arr[index])\n",
    "        elif ((index+1) < len(arr)) and arr[index+1] == \"=\":\n",
    "            result_arr.append(arr[index])\n",
    "        elif arr[index-1] == \"=\" and arr[index].isalnum():\n",
    "            arr[index] = \"PureString\"\n",
    "            result_arr.append(arr[index])\n",
    "        elif arr[index].isalnum():\n",
    "            Mix_arr.append(arr[index])\n",
    "            arr[index] = \"MixString\"\n",
    "            result_arr.append(arr[index])\n",
    "        elif \"/\" in arr[index]:\n",
    "            arr[index] = \"/PathString\"\n",
    "            result_arr.append(arr[index])\n",
    "    #     elif arr[index-1] == \"-\" and arr[index].isalnum():\n",
    "    #         result_arr.append(arr[index])\n",
    "        else:\n",
    "            result_arr.append(arr[index])\n",
    "\n",
    "    #print(result_arr,\"\\n\")\n",
    "    result_Mix_Num = Mix_arr + Number_arr\n",
    "    result_key = ' '.join(result_Mix_Num)\n",
    "    #print(result_key)\n",
    "\n",
    "    for char in result_arr:\n",
    "        result_str += char\n",
    "    #print(result_str)\n",
    "    #return result_str\n",
    "    return result_key\n",
    "\n",
    "# tách request ra từng chuỗi\n",
    "def request_general_arr(input_string):\n",
    "    # pattern = re.compile(r'\\?|&|=|-|.php|%[0-9A-Fa-f]{2}|\\w+|\\.|\\(|\\)')\n",
    "    pattern = re.compile(r'/\\.\\.|/[a-zA-Z]+|\\?|&|=|-|.php|%[0-9A-Fa-f]{2}|\\w+|\\.|\\(|\\)')\n",
    "    matches = pattern.findall(input_string)\n",
    "    #print(matches)\n",
    "    print(\"\\n\")\n",
    "\n",
    "    #Đưa về dạng tổng quát\n",
    "    arr =[]\n",
    "    result_arr = []\n",
    "    Number_arr = []\n",
    "    Hex_arr = []\n",
    "    Pure_arr = []\n",
    "    Mix_arr = []\n",
    "    \n",
    "    result_str = \"\"\n",
    "\n",
    "    arr = matches\n",
    "    for index in range(len(arr)):\n",
    "        current_index = index\n",
    "        if arr[index].isdigit():\n",
    "            Number_arr.append(arr[index])\n",
    "            arr[index] = \"Number\"\n",
    "            result_arr.append(arr[index])\n",
    "        elif \"%\" in arr[index]:\n",
    "            arr[index] = \"%HexString\"\n",
    "            result_arr.append(arr[index])\n",
    "        elif ((index+1) < len(arr)) and arr[index+1] == \"=\":\n",
    "            result_arr.append(arr[index])\n",
    "        elif arr[index-1] == \"=\" and arr[index].isalnum():\n",
    "            arr[index] = \"PureString\"\n",
    "            result_arr.append(arr[index])\n",
    "        elif arr[index].isalnum():\n",
    "            Mix_arr.append(arr[index])\n",
    "            arr[index] = \"MixString\"\n",
    "            result_arr.append(arr[index])\n",
    "        elif \"/\" in arr[index]:\n",
    "            arr[index] = \"/PathString\"\n",
    "            result_arr.append(arr[index])\n",
    "    #     elif arr[index-1] == \"-\" and arr[index].isalnum():\n",
    "    #         result_arr.append(arr[index])\n",
    "        else:\n",
    "            result_arr.append(arr[index])\n",
    "\n",
    "    #print(result_arr,\"\\n\")\n",
    "    result_Mix_Num = Mix_arr + Number_arr\n",
    "    result_key = ' '.join(result_Mix_Num)\n",
    "    #print(result_key)\n",
    "\n",
    "    for char in result_arr:\n",
    "        result_str += char\n",
    "    #print(result_str)\n",
    "    #return result_str\n",
    "    #return result_key\n",
    "    return result_arr\n",
    "\n",
    "#Hàm nhập request\n",
    "def _input_():\n",
    "    input_request = input()\n",
    "    input_general = request_general(input_request)\n",
    "    input_general_arr = request_general_arr(input_request)\n",
    "    input_general_key = request_general_key(input_request)\n",
    "    \n",
    "    if input_general in env1.data_general_request_list and input_request in env1.data_request_list:\n",
    "        init_state = env1.data_value_list[env1.data_request_list.index(input_request)]\n",
    "        init_state_np = np.array([init_state])\n",
    "    elif input_general in env1.data_general_request_list and input_request not in env1.data_request_list:\n",
    "        #all_value_input_general = [env1.data_value_list[index] for index, general in enumerate(env1.data_general_request_list) if general == input_general]\n",
    "        all_value_input_general_key = [env1.data_value_list[index] for index, general_key in enumerate(env1.data_key_request_list) if general_key == input_general_key]\n",
    "        init_state = random.choice(all_value_input_general_key)\n",
    "        init_state_np = np.array([init_state])\n",
    "    else:\n",
    "        #tách ra từng chuỗi để so sánh \"/PathString\", \"%HexString\" có trong request ko\n",
    "        if \"/PathString\" in input_general_arr:\n",
    "            init_state = 404\n",
    "        elif \"%HexString\" in input_general_arr:\n",
    "            init_state = 400\n",
    "        else:\n",
    "            init_state = 2000\n",
    "        init_state_np = np.array([init_state])\n",
    "        \n",
    "    return init_state_np\n",
    "\n",
    "\n",
    "    \n",
    "    "
   ]
  },
  {
   "cell_type": "markdown",
   "id": "c0ce32b4",
   "metadata": {},
   "source": [
    "## Enter_input"
   ]
  },
  {
   "cell_type": "code",
   "execution_count": 138,
   "id": "2148e738",
   "metadata": {},
   "outputs": [
    {
     "name": "stdout",
     "output_type": "stream",
     "text": [
      "?page=/../../../../etc/passwd\n",
      "\n",
      "\n",
      "\n",
      "\n",
      "\n",
      "\n"
     ]
    }
   ],
   "source": [
    "init_state = np.array(_input_())"
   ]
  },
  {
   "cell_type": "code",
   "execution_count": 139,
   "id": "e2279a15",
   "metadata": {},
   "outputs": [
    {
     "name": "stdout",
     "output_type": "stream",
     "text": [
      "[404]\n"
     ]
    }
   ],
   "source": [
    "print(init_state)"
   ]
  },
  {
   "cell_type": "markdown",
   "id": "4c7a4750",
   "metadata": {},
   "source": [
    "## If input_general in DB --> agent response"
   ]
  },
  {
   "cell_type": "markdown",
   "id": "4074cc66",
   "metadata": {},
   "source": [
    "## Test 1"
   ]
  },
  {
   "cell_type": "code",
   "execution_count": 140,
   "id": "569421c0",
   "metadata": {},
   "outputs": [
    {
     "name": "stdout",
     "output_type": "stream",
     "text": [
      "404 not found\n"
     ]
    }
   ],
   "source": [
    "if 100<= init_state <=241:\n",
    "    obs = init_state\n",
    "    print(f\"Request {obs}: {env1.data_request_list[int(env1.data_value_list.index(obs))]}\")\n",
    "    print(f\"Request general {obs}: {env1.data_general_request_list[int(env1.data_value_list.index(obs))]}\")\n",
    "\n",
    "    action, _ = model.predict(obs)\n",
    "    print(f\"Selected Action {action}: \\n{env1.data_response_list[int(action)]}\")\n",
    "else:\n",
    "    if init_state == 404:\n",
    "        print(\"404 not found\")\n",
    "    elif init_state == 400:\n",
    "        print(\"400 bad request\")\n",
    "    else:\n",
    "        print(\"200 ok reload\")\n",
    "    "
   ]
  },
  {
   "cell_type": "markdown",
   "id": "2d04cd6d",
   "metadata": {},
   "source": [
    "## Test 2"
   ]
  },
  {
   "cell_type": "code",
   "execution_count": 75,
   "id": "bce9b283",
   "metadata": {},
   "outputs": [
    {
     "name": "stdout",
     "output_type": "stream",
     "text": [
      "ip=127.0.0.1%3B+ls&Submit=Submit\n",
      "\n",
      "\n",
      "\n",
      "\n",
      "\n",
      "\n"
     ]
    }
   ],
   "source": [
    "init_state = np.array(_input_())"
   ]
  },
  {
   "cell_type": "code",
   "execution_count": 76,
   "id": "a8edfeff",
   "metadata": {},
   "outputs": [
    {
     "name": "stdout",
     "output_type": "stream",
     "text": [
      "Request [137]: ip=127.0.0.1%3B+ls&Submit=Submit\n",
      "Request general [137]: ip=Number.Number.Number.Number%HexStringMixString&Submit=PureString\n",
      "Selected Action [49]: \n",
      "help\n",
      "index.php\n",
      "source\n"
     ]
    }
   ],
   "source": [
    "if 100<= init_state <=241:\n",
    "    obs = init_state\n",
    "    print(f\"Request {obs}: {env1.data_request_list[int(env1.data_value_list.index(obs))]}\")\n",
    "    print(f\"Request general {obs}: {env1.data_general_request_list[int(env1.data_value_list.index(obs))]}\")\n",
    "\n",
    "    action, _ = model.predict(obs)\n",
    "    print(f\"Selected Action {action}: \\n{env1.data_response_list[int(action)]}\")\n",
    "else:\n",
    "    if init_state == 404:\n",
    "        print(\"404 not found\")\n",
    "    elif init_state == 400:\n",
    "        print(\"400 bad request\")\n",
    "    else:\n",
    "        print(\"200 ok reload\")\n",
    "    "
   ]
  },
  {
   "cell_type": "markdown",
   "id": "c605652e",
   "metadata": {},
   "source": [
    "## Test 3"
   ]
  },
  {
   "cell_type": "code",
   "execution_count": 77,
   "id": "fc393c20",
   "metadata": {},
   "outputs": [
    {
     "name": "stdout",
     "output_type": "stream",
     "text": [
      "?id=%271&Submit=Submit\n",
      "\n",
      "\n",
      "\n",
      "\n",
      "\n",
      "\n"
     ]
    }
   ],
   "source": [
    "init_state = np.array(_input_())"
   ]
  },
  {
   "cell_type": "code",
   "execution_count": 78,
   "id": "fb9f0332",
   "metadata": {},
   "outputs": [
    {
     "name": "stdout",
     "output_type": "stream",
     "text": [
      "Request [157]: ?id=%271&Submit=Submit\n",
      "Request general [157]: ?id=%HexStringNumber&Submit=PureString\n",
      "Selected Action [57]: \n",
      "<pre>You have an error in your SQL syntax; check the manual that corresponds to your MariaDB server version for the right syntax to use near '1'' at line 1</pre>\n"
     ]
    }
   ],
   "source": [
    "if 100<= init_state <=241:\n",
    "    obs = init_state\n",
    "    print(f\"Request {obs}: {env1.data_request_list[int(env1.data_value_list.index(obs))]}\")\n",
    "    print(f\"Request general {obs}: {env1.data_general_request_list[int(env1.data_value_list.index(obs))]}\")\n",
    "\n",
    "    action, _ = model.predict(obs)\n",
    "    print(f\"Selected Action {action}: \\n{env1.data_response_list[int(action)]}\")\n",
    "else:\n",
    "    if init_state == 404:\n",
    "        print(\"404 not found\")\n",
    "    elif init_state == 400:\n",
    "        print(\"400 bad request\")\n",
    "    else:\n",
    "        print(\"200 ok reload\")\n",
    "    "
   ]
  },
  {
   "cell_type": "markdown",
   "id": "e7b5dc04",
   "metadata": {},
   "source": [
    "## Test 4"
   ]
  },
  {
   "cell_type": "code",
   "execution_count": 79,
   "id": "be6daab7",
   "metadata": {},
   "outputs": [
    {
     "name": "stdout",
     "output_type": "stream",
     "text": [
      "id=0+OR+0%3D0%23&Submit=Submit\n",
      "\n",
      "\n",
      "\n",
      "\n",
      "\n",
      "\n"
     ]
    }
   ],
   "source": [
    "init_state = np.array(_input_())"
   ]
  },
  {
   "cell_type": "code",
   "execution_count": 80,
   "id": "d83fc373",
   "metadata": {},
   "outputs": [
    {
     "name": "stdout",
     "output_type": "stream",
     "text": [
      "Request [168]: id=0+OR+0%3D0%23&Submit=Submit\n",
      "Request general [168]: id=NumberMixStringNumber%HexStringNumber%HexString&Submit=PureString\n",
      "Selected Action [68]: \n",
      "ID: 0 OR 0=0#\n",
      "First name: admin\n",
      "Surname: admin\n",
      "ID: 0 OR 0=0#\n",
      "First name: Gordon\n",
      "Surname: Brown\n",
      "ID: 0 OR 0=0#\n",
      "First name: Hack\n",
      "Surname: Me\n",
      "ID: 0 OR 0=0#\n",
      "First name: Pablo\n",
      "Surname: Picasso\n",
      "ID: 0 OR 0=0#\n",
      "First name: Bob\n",
      "Surname: Smith\n"
     ]
    }
   ],
   "source": [
    "if 100<= init_state <=241:\n",
    "    obs = init_state\n",
    "    print(f\"Request {obs}: {env1.data_request_list[int(env1.data_value_list.index(obs))]}\")\n",
    "    print(f\"Request general {obs}: {env1.data_general_request_list[int(env1.data_value_list.index(obs))]}\")\n",
    "\n",
    "    action, _ = model.predict(obs)\n",
    "    print(f\"Selected Action {action}: \\n{env1.data_response_list[int(action)]}\")\n",
    "else:\n",
    "    if init_state == 404:\n",
    "        print(\"404 not found\")\n",
    "    elif init_state == 400:\n",
    "        print(\"400 bad request\")\n",
    "    else:\n",
    "        print(\"200 ok reload\")\n",
    "    "
   ]
  },
  {
   "cell_type": "markdown",
   "id": "0fb3835a",
   "metadata": {},
   "source": [
    "## Test 5"
   ]
  },
  {
   "cell_type": "code",
   "execution_count": 81,
   "id": "ca03b966",
   "metadata": {},
   "outputs": [
    {
     "name": "stdout",
     "output_type": "stream",
     "text": [
      "id=1%27+UNION+SELECT+user%2C+password+FROM+users%23&Submit=Submit\n",
      "\n",
      "\n",
      "\n",
      "\n",
      "\n",
      "\n"
     ]
    }
   ],
   "source": [
    "init_state = np.array(_input_())"
   ]
  },
  {
   "cell_type": "code",
   "execution_count": 82,
   "id": "a8f296c3",
   "metadata": {},
   "outputs": [
    {
     "name": "stdout",
     "output_type": "stream",
     "text": [
      "Request [174]: id=1%27+UNION+SELECT+user%2C+password+FROM+users%23&Submit=Submit\n",
      "Request general [174]: id=Number%HexStringMixStringMixStringMixString%HexStringMixStringMixStringMixString%HexString&Submit=PureString\n",
      "Selected Action [74]: \n",
      "ID: 1' UNION SELECT user, password FROM users#\n",
      "First name: admin\n",
      "Surname: admin\n",
      "ID: 1' UNION SELECT user, password FROM users#\n",
      "First name: admin\n",
      "Surname: 5f4dcc3b5aa765d61d8327deb882cf99\n",
      "ID: 1' UNION SELECT user, password FROM users#\n",
      "First name: gordonb\n",
      "Surname: e99a18c428cb38d5f260853678922e03\n",
      "ID: 1' UNION SELECT user, password FROM users#\n",
      "First name: 1337\n",
      "Surname: 8d3533d75ae2c3966d7e0d4fcc69216b\n",
      "ID: 1' UNION SELECT user, password FROM users#\n",
      "First name: pablo\n",
      "Surname: 0d107d09f5bbe40cade3de5c71e9e9b7\n",
      "ID: 1' UNION SELECT user, password FROM users#\n",
      "First name: smithy\n",
      "Surname: 5f4dcc3b5aa765d61d8327deb882cf99\n"
     ]
    }
   ],
   "source": [
    "if 100<= init_state <=241:\n",
    "    obs = init_state\n",
    "    print(f\"Request {obs}: {env1.data_request_list[int(env1.data_value_list.index(obs))]}\")\n",
    "    print(f\"Request general {obs}: {env1.data_general_request_list[int(env1.data_value_list.index(obs))]}\")\n",
    "\n",
    "    action, _ = model.predict(obs)\n",
    "    print(f\"Selected Action {action}: \\n{env1.data_response_list[int(action)]}\")\n",
    "else:\n",
    "    if init_state == 404:\n",
    "        print(\"404 not found\")\n",
    "    elif init_state == 400:\n",
    "        print(\"400 bad request\")\n",
    "    else:\n",
    "        print(\"200 ok reload\")\n",
    "    "
   ]
  },
  {
   "cell_type": "markdown",
   "id": "a4a0bb9a",
   "metadata": {},
   "source": [
    "## Test 6"
   ]
  },
  {
   "cell_type": "code",
   "execution_count": 83,
   "id": "52f92c69",
   "metadata": {},
   "outputs": [
    {
     "name": "stdout",
     "output_type": "stream",
     "text": [
      "?name=%3Cscript%3Ealert%28document.cookie%29%3B%3C%2Fscript%3E\n",
      "\n",
      "\n",
      "\n",
      "\n",
      "\n",
      "\n"
     ]
    }
   ],
   "source": [
    "init_state = np.array(_input_())"
   ]
  },
  {
   "cell_type": "code",
   "execution_count": 84,
   "id": "2c1c7b40",
   "metadata": {},
   "outputs": [
    {
     "name": "stdout",
     "output_type": "stream",
     "text": [
      "Request [203]: ?name=%3Cscript%3Ealert%28document.cookie%29%3B%3C%2Fscript%3E\n",
      "Request general [203]: ?name=%HexStringMixString%HexStringMixString%HexStringMixString.MixString%HexString%HexString%HexString%HexStringMixString%HexString\n",
      "Selected Action [103]: \n",
      "PHPSESSID=ni55hnpu8lnn1p3r75daalv313; security=low\n"
     ]
    }
   ],
   "source": [
    "if 100<= init_state <=241:\n",
    "    obs = init_state\n",
    "    print(f\"Request {obs}: {env1.data_request_list[int(env1.data_value_list.index(obs))]}\")\n",
    "    print(f\"Request general {obs}: {env1.data_general_request_list[int(env1.data_value_list.index(obs))]}\")\n",
    "\n",
    "    action, _ = model.predict(obs)\n",
    "    print(f\"Selected Action {action}: \\n{env1.data_response_list[int(action)]}\")\n",
    "else:\n",
    "    if init_state == 404:\n",
    "        print(\"404 not found\")\n",
    "    elif init_state == 400:\n",
    "        print(\"400 bad request\")\n",
    "    else:\n",
    "        print(\"200 ok reload\")\n",
    "    "
   ]
  },
  {
   "cell_type": "markdown",
   "id": "6817ca9a",
   "metadata": {},
   "source": [
    "## Test 7"
   ]
  },
  {
   "cell_type": "code",
   "execution_count": 96,
   "id": "b715d6b9",
   "metadata": {},
   "outputs": [
    {
     "name": "stdout",
     "output_type": "stream",
     "text": [
      "?default=French%3Cscript%3Ealert(%22you%20been%20hacked!%22)%3C/script%3E \n",
      "\n",
      "\n",
      "\n",
      "\n",
      "\n",
      "\n"
     ]
    }
   ],
   "source": [
    "init_state = np.array(_input_())"
   ]
  },
  {
   "cell_type": "code",
   "execution_count": 97,
   "id": "34b39301",
   "metadata": {},
   "outputs": [
    {
     "name": "stdout",
     "output_type": "stream",
     "text": [
      "Request [192]: ?default=French%3Cscript%3Ealert(%22you%20been%20hacked!%22)%3C/script%3E \n",
      "Request general [192]: ?default=PureString%HexStringMixString%HexStringMixString(%HexStringMixString%HexStringMixString%HexStringMixString%HexString)%HexString/PathString%HexString\n",
      "Selected Action [46]: \n",
      "Linux 858774c0c3a7 6.1.0-kali5-amd64 #1 SMP PREEMPT_DYNAMIC Debian 6.1.12-1kali2 (2023-02-23) x86_64 GNU/Linux\n"
     ]
    }
   ],
   "source": [
    "if 100<= init_state <=241:\n",
    "    obs = init_state\n",
    "    print(f\"Request {obs}: {env1.data_request_list[int(env1.data_value_list.index(obs))]}\")\n",
    "    print(f\"Request general {obs}: {env1.data_general_request_list[int(env1.data_value_list.index(obs))]}\")\n",
    "\n",
    "    action, _ = model.predict(obs)\n",
    "    print(f\"Selected Action {action}: \\n{env1.data_response_list[int(action)]}\")\n",
    "else:\n",
    "    if init_state == 404:\n",
    "        print(\"404 not found\")\n",
    "    elif init_state == 400:\n",
    "        print(\"400 bad request\")\n",
    "    else:\n",
    "        print(\"200 ok reload\")\n",
    "    "
   ]
  },
  {
   "cell_type": "markdown",
   "id": "af5dd438",
   "metadata": {},
   "source": [
    "## Test 8"
   ]
  },
  {
   "cell_type": "code",
   "execution_count": 90,
   "id": "dd75dea9",
   "metadata": {},
   "outputs": [
    {
     "name": "stdout",
     "output_type": "stream",
     "text": [
      "txtName=%3Cimg+src%3Dx+onerror%3Dalert%28%22you_hacked%21%22%29%3E&mtxMessage=uit&btnSign=Sign+Guestbook\n",
      "\n",
      "\n",
      "\n",
      "\n",
      "\n",
      "\n"
     ]
    }
   ],
   "source": [
    "init_state = np.array(_input_())"
   ]
  },
  {
   "cell_type": "code",
   "execution_count": 91,
   "id": "ba6ab1dc",
   "metadata": {},
   "outputs": [
    {
     "name": "stdout",
     "output_type": "stream",
     "text": [
      "Request [225]: txtName=%3Cimg+src%3Dx+onerror%3Dalert%28%22you_hacked%21%22%29%3E&mtxMessage=uit&btnSign=Sign+Guestbook\n",
      "Request general [225]: txtName=%HexStringMixStringMixString%HexStringMixStringMixString%HexStringMixString%HexString%HexStringyou_hacked%HexString%HexString%HexString%HexString&mtxMessage=PureString&btnSign=PureStringMixString\n",
      "Selected Action [125]: \n",
      "you_hacked!\n"
     ]
    }
   ],
   "source": [
    "if 100<= init_state <=241:\n",
    "    obs = init_state\n",
    "    print(f\"Request {obs}: {env1.data_request_list[int(env1.data_value_list.index(obs))]}\")\n",
    "    print(f\"Request general {obs}: {env1.data_general_request_list[int(env1.data_value_list.index(obs))]}\")\n",
    "\n",
    "    action, _ = model.predict(obs)\n",
    "    print(f\"Selected Action {action}: \\n{env1.data_response_list[int(action)]}\")\n",
    "else:\n",
    "    if init_state == 404:\n",
    "        print(\"404 not found\")\n",
    "    elif init_state == 400:\n",
    "        print(\"400 bad request\")\n",
    "    else:\n",
    "        print(\"200 ok reload\")\n",
    "    "
   ]
  },
  {
   "cell_type": "markdown",
   "id": "25057a08",
   "metadata": {},
   "source": [
    "## Test 9"
   ]
  },
  {
   "cell_type": "code",
   "execution_count": 92,
   "id": "5f76331a",
   "metadata": {},
   "outputs": [
    {
     "name": "stdout",
     "output_type": "stream",
     "text": [
      "?page=file1.php%0C/../../../../../../etc/passwd\n",
      "\n",
      "\n",
      "\n",
      "\n",
      "\n",
      "\n"
     ]
    }
   ],
   "source": [
    "init_state = np.array(_input_())"
   ]
  },
  {
   "cell_type": "code",
   "execution_count": 93,
   "id": "d03e1342",
   "metadata": {},
   "outputs": [
    {
     "name": "stdout",
     "output_type": "stream",
     "text": [
      "Request [233]: ?page=file1.php%0C/../../../../../../etc/passwd\n",
      "Request general [233]: ?page=PureString.php%HexString/PathString/PathString/PathString/PathString/PathString/PathString/PathString/PathString\n",
      "Selected Action [133]: \n",
      "root:x:0:0:root:/root:/bin/bash daemon:x:1:1:daemon:/usr/sbin:/usr/sbin/nologin bin:x:2:2:bin:/bin:/usr/sbin/nologin sys:x:3:3:sys:/dev:/usr/sbin/nologin sync:x:4:65534:sync:/bin:/bin/sync games:x:5:60:games:/usr/games:/usr/sbin/nologin man:x:6:12:man:/var/cache/man:/usr/sbin/nologin lp:x:7:7:lp:/var/spool/lpd:/usr/sbin/nologin mail:x:8:8:mail:/var/mail:/usr/sbin/nologin news:x:9:9:news:/var/spool/news:/usr/sbin/nologin uucp:x:10:10:uucp:/var/spool/uucp:/usr/sbin/nologin proxy:x:13:13:proxy:/bin:/usr/sbin/nologin www-data:x:33:33:www-data:/var/www:/usr/sbin/nologin backup:x:34:34:backup:/var/backups:/usr/sbin/nologin list:x:38:38:Mailing List Manager:/var/list:/usr/sbin/nologin irc:x:39:39:ircd:/var/run/ircd:/usr/sbin/nologin gnats:x:41:41:Gnats Bug-Reporting System (admin):/var/lib/gnats:/usr/sbin/nologin nobody:x:65534:65534:nobody:/nonexistent:/usr/sbin/nologin _apt:x:100:65534::/nonexistent:/bin/false mysql:x:101:101:MySQL Server,,,:/nonexistent:/bin/false\n"
     ]
    }
   ],
   "source": [
    "if 100<= init_state <=241:\n",
    "    obs = init_state\n",
    "    print(f\"Request {obs}: {env1.data_request_list[int(env1.data_value_list.index(obs))]}\")\n",
    "    print(f\"Request general {obs}: {env1.data_general_request_list[int(env1.data_value_list.index(obs))]}\")\n",
    "\n",
    "    action, _ = model.predict(obs)\n",
    "    print(f\"Selected Action {action}: \\n{env1.data_response_list[int(action)]}\")\n",
    "else:\n",
    "    if init_state == 404:\n",
    "        print(\"404 not found\")\n",
    "    elif init_state == 400:\n",
    "        print(\"400 bad request\")\n",
    "    else:\n",
    "        print(\"200 ok reload\")\n",
    "    "
   ]
  },
  {
   "cell_type": "markdown",
   "id": "f8d3d315",
   "metadata": {},
   "source": [
    "## Test 10"
   ]
  },
  {
   "cell_type": "code",
   "execution_count": 94,
   "id": "4badce3b",
   "metadata": {},
   "outputs": [
    {
     "name": "stdout",
     "output_type": "stream",
     "text": [
      "Content-Disposition: form-data; name=\"uploaded\"; filename=\"shell.php\"\n",
      "\n",
      "\n",
      "\n",
      "\n",
      "\n",
      "\n"
     ]
    }
   ],
   "source": [
    "init_state = np.array(_input_())"
   ]
  },
  {
   "cell_type": "code",
   "execution_count": 95,
   "id": "ac6c83ec",
   "metadata": {},
   "outputs": [
    {
     "name": "stdout",
     "output_type": "stream",
     "text": [
      "Request [237]: Content-Disposition: form-data; name=\"uploaded\"; filename=\"shell.php\"\n",
      "Request general [237]: MixString-MixStringMixString-MixStringname=PureStringfilename=PureString.php\n",
      "Selected Action [138]: \n",
      "../../hackable/uploads/payload.php succesfully uploaded!\n"
     ]
    }
   ],
   "source": [
    "if 100<= init_state <=241:\n",
    "    obs = init_state\n",
    "    print(f\"Request {obs}: {env1.data_request_list[int(env1.data_value_list.index(obs))]}\")\n",
    "    print(f\"Request general {obs}: {env1.data_general_request_list[int(env1.data_value_list.index(obs))]}\")\n",
    "\n",
    "    action, _ = model.predict(obs)\n",
    "    print(f\"Selected Action {action}: \\n{env1.data_response_list[int(action)]}\")\n",
    "else:\n",
    "    if init_state == 404:\n",
    "        print(\"404 not found\")\n",
    "    elif init_state == 400:\n",
    "        print(\"400 bad request\")\n",
    "    else:\n",
    "        print(\"200 ok reload\")\n",
    "    "
   ]
  },
  {
   "cell_type": "code",
   "execution_count": null,
   "id": "605ebe6c",
   "metadata": {},
   "outputs": [],
   "source": []
  }
 ],
 "metadata": {
  "kernelspec": {
   "display_name": "Python 3 (ipykernel)",
   "language": "python",
   "name": "python3"
  },
  "language_info": {
   "codemirror_mode": {
    "name": "ipython",
    "version": 3
   },
   "file_extension": ".py",
   "mimetype": "text/x-python",
   "name": "python",
   "nbconvert_exporter": "python",
   "pygments_lexer": "ipython3",
   "version": "3.11.5"
  }
 },
 "nbformat": 4,
 "nbformat_minor": 5
}
