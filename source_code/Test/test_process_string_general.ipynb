{
 "cells": [
  {
   "cell_type": "markdown",
   "id": "0e18f6e7",
   "metadata": {},
   "source": [
    "## Hàm lấy ra giá trị key"
   ]
  },
  {
   "cell_type": "code",
   "execution_count": 3,
   "id": "0f6666ef",
   "metadata": {
    "scrolled": true
   },
   "outputs": [
    {
     "name": "stdout",
     "output_type": "stream",
     "text": [
      "id=4+OR+4%3D4%23&Submit=Submit\n",
      "\n",
      "\n",
      "OR 4 4 4\n"
     ]
    }
   ],
   "source": [
    "import nltk\n",
    "from nltk.tokenize import word_tokenize\n",
    "from nltk.tokenize import RegexpTokenizer\n",
    "import re\n",
    "#Tách chuỗi\n",
    "\n",
    "input_string = input()\n",
    "\n",
    "#Ham đưa request về tổng quát \n",
    "def request_general(input_string):\n",
    "    # pattern = re.compile(r'\\?|&|=|-|.php|%[0-9A-Fa-f]{2}|\\w+|\\.|\\(|\\)')\n",
    "    pattern = re.compile(r'/\\.\\.|/[a-zA-Z]+|\\?|&|=|-|.php|%[0-9A-Fa-f]{2}|\\w+|\\.|\\(|\\)')\n",
    "    matches = pattern.findall(input_string)\n",
    "    #print(matches)\n",
    "    print(\"\\n\")\n",
    "\n",
    "    #Đưa về dạng tổng quát\n",
    "    arr =[]\n",
    "    result_arr = []\n",
    "    Number_arr = []\n",
    "    Hex_arr = []\n",
    "    Pure_arr = []\n",
    "    Mix_arr = []\n",
    "    \n",
    "    result_str = \"\"\n",
    "\n",
    "    arr = matches\n",
    "    for index in range(len(arr)):\n",
    "        current_index = index\n",
    "        if arr[index].isdigit():\n",
    "            Number_arr.append(arr[index])\n",
    "            arr[index] = \"Number\"\n",
    "            result_arr.append(arr[index])\n",
    "        elif \"%\" in arr[index]:\n",
    "            #Hex_arr = [arr[index].replace(arr[index], \"%HexString\")]\n",
    "            arr[index] = \"%HexString\"\n",
    "            result_arr.append(arr[index])\n",
    "        elif ((index+1) < len(arr)) and arr[index+1] == \"=\":\n",
    "            result_arr.append(arr[index])\n",
    "        elif arr[index-1] == \"=\" and arr[index].isalnum():\n",
    "            arr[index] = \"PureString\"\n",
    "            result_arr.append(arr[index])\n",
    "        elif arr[index].isalnum():\n",
    "            Mix_arr.append(arr[index])\n",
    "            arr[index] = \"MixString\"\n",
    "            result_arr.append(arr[index])\n",
    "        elif \"/\" in arr[index]:\n",
    "            arr[index] = \"/PathString\"\n",
    "            result_arr.append(arr[index])\n",
    "    #     elif arr[index-1] == \"-\" and arr[index].isalnum():\n",
    "    #         result_arr.append(arr[index])\n",
    "        else:\n",
    "            result_arr.append(arr[index])\n",
    "\n",
    "    #print(result_arr,\"\\n\")\n",
    "    result_Mix_Num = Mix_arr + Number_arr\n",
    "    result_ = ' '.join(result_Mix_Num)\n",
    "    #print(result_)\n",
    "\n",
    "    for char in result_arr:\n",
    "        result_str += char\n",
    "    #print(result_str)\n",
    "    #return result_str\n",
    "    return result_\n",
    "\n",
    "print(request_general(input_string))"
   ]
  },
  {
   "cell_type": "markdown",
   "id": "9f730812",
   "metadata": {},
   "source": [
    "\n",
    "## Hàm đưa request về dạng tổng quát"
   ]
  },
  {
   "cell_type": "code",
   "execution_count": 4,
   "id": "3af78fe2",
   "metadata": {},
   "outputs": [
    {
     "name": "stdout",
     "output_type": "stream",
     "text": [
      "id=4+OR+4%3D4%23&Submit=Submit\n",
      "\n",
      "\n",
      "['id', '=', 'Number', 'MixString', 'Number', '%HexString', 'Number', '%HexString', '&', 'Submit', '=', 'PureString'] \n",
      "\n",
      "id=NumberMixStringNumber%HexStringNumber%HexString&Submit=PureString\n"
     ]
    }
   ],
   "source": [
    "import nltk\n",
    "from nltk.tokenize import word_tokenize\n",
    "from nltk.tokenize import RegexpTokenizer\n",
    "import re\n",
    "#Tách chuỗi\n",
    "\n",
    "input_string = input()\n",
    "\n",
    "#Ham đưa request về tổng quát \n",
    "def request_general(input_string):\n",
    "    # pattern = re.compile(r'\\?|&|=|-|.php|%[0-9A-Fa-f]{2}|\\w+|\\.|\\(|\\)')\n",
    "    pattern = re.compile(r'/\\.\\.|/[a-zA-Z]+|\\?|&|=|-|.php|%[0-9A-Fa-f]{2}|\\w+|\\.|\\(|\\)')\n",
    "    matches = pattern.findall(input_string)\n",
    "    #print(matches)\n",
    "    print(\"\\n\")\n",
    "\n",
    "    #Đưa về dạng tổng quát\n",
    "    arr =[]\n",
    "    result_arr = []\n",
    "    Number_arr = []\n",
    "    Hex_arr = []\n",
    "    Pure_arr = []\n",
    "    Mix_arr = []\n",
    "    \n",
    "    result_str = \"\"\n",
    "\n",
    "    arr = matches\n",
    "    for index in range(len(arr)):\n",
    "        current_index = index\n",
    "        if arr[index].isdigit():\n",
    "            Number_arr.append(arr[index])\n",
    "            arr[index] = \"Number\"\n",
    "            result_arr.append(arr[index])\n",
    "        elif \"%\" in arr[index]:\n",
    "            arr[index] = \"%HexString\"\n",
    "            result_arr.append(arr[index])\n",
    "        elif ((index+1) < len(arr)) and arr[index+1] == \"=\":\n",
    "            result_arr.append(arr[index])\n",
    "        elif arr[index-1] == \"=\" and arr[index].isalnum():\n",
    "            arr[index] = \"PureString\"\n",
    "            result_arr.append(arr[index])\n",
    "        elif arr[index].isalnum():\n",
    "            Mix_arr.append(arr[index])\n",
    "            arr[index] = \"MixString\"\n",
    "            result_arr.append(arr[index])\n",
    "        elif \"/\" in arr[index]:\n",
    "            arr[index] = \"/PathString\"\n",
    "            result_arr.append(arr[index])\n",
    "    #     elif arr[index-1] == \"-\" and arr[index].isalnum():\n",
    "    #         result_arr.append(arr[index])\n",
    "        else:\n",
    "            result_arr.append(arr[index])\n",
    "\n",
    "    print(result_arr,\"\\n\")\n",
    "    result_Mix_Num = Mix_arr + Number_arr\n",
    "    result_ = ' '.join(result_Mix_Num)\n",
    "    #print(result_)\n",
    "\n",
    "    for char in result_arr:\n",
    "        result_str += char\n",
    "    #print(result_str)\n",
    "    return result_str\n",
    "    #return result_\n",
    "\n",
    "print(request_general(input_string))"
   ]
  },
  {
   "cell_type": "code",
   "execution_count": null,
   "id": "5ee4bc0a",
   "metadata": {},
   "outputs": [],
   "source": []
  },
  {
   "cell_type": "code",
   "execution_count": null,
   "id": "f1f16c1c",
   "metadata": {},
   "outputs": [],
   "source": []
  },
  {
   "cell_type": "code",
   "execution_count": null,
   "id": "818e0889",
   "metadata": {},
   "outputs": [],
   "source": []
  },
  {
   "cell_type": "code",
   "execution_count": null,
   "id": "58801991",
   "metadata": {},
   "outputs": [],
   "source": []
  },
  {
   "cell_type": "code",
   "execution_count": null,
   "id": "ce71e01e",
   "metadata": {},
   "outputs": [],
   "source": []
  },
  {
   "cell_type": "code",
   "execution_count": null,
   "id": "a65dcbd2",
   "metadata": {},
   "outputs": [],
   "source": []
  }
 ],
 "metadata": {
  "kernelspec": {
   "display_name": "Python 3 (ipykernel)",
   "language": "python",
   "name": "python3"
  },
  "language_info": {
   "codemirror_mode": {
    "name": "ipython",
    "version": 3
   },
   "file_extension": ".py",
   "mimetype": "text/x-python",
   "name": "python",
   "nbconvert_exporter": "python",
   "pygments_lexer": "ipython3",
   "version": "3.11.5"
  }
 },
 "nbformat": 4,
 "nbformat_minor": 5
}
